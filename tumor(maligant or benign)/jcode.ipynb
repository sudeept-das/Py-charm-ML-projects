{
 "cells": [
  {
   "cell_type": "code",
   "execution_count": null,
   "metadata": {
    "collapsed": true
   },
   "outputs": [],
   "source": [
    "import numpy as np\n",
    "import pandas as pd\n",
    "import seaborn as sns\n",
    "import matplotlib.pyplot as plt\n",
    "%matplotlib inline\n",
    "\n",
    "data = pd.read_csv('tumor.csv')\n",
    "print(data.head())\n",
    "\n",
    "sns.jointplot('radius_mean', 'texture_mean', data=data)\n",
    "# shows graph and histogram of texture_mean vs radius_mean for the dataset data\n",
    "plt.show()\n",
    "\n",
    "# heat shows graph for comparing all the features of the dataset using color for the dataset data with each other\n",
    "sns.heatmap(data.corr())\n",
    "plt.show()\n",
    "\n",
    "# X contains all worst and y contains only diagnosis\n",
    "X = data[['radius_worst', 'texture_worst', 'perimeter_worst', 'area_worst', 'smoothness_worst', 'compactness_worst',\n",
    "          'concavity_worst', 'concave points_worst', 'symmetry_worst', 'fractal_dimension_worst']]\n",
    "y = data['diagnosis']\n",
    "\n",
    "from sklearn.model_selection import train_test_split\n",
    "\n",
    "# We have taken test_size=0.3 to take 30% of the data(X,y) in testing data(X_test, y_test) and 70% in the training\n",
    "# data(X_train, y_train) that we are going to split\n",
    "X_train, y_train, X_test, y_test = train_test_split(X, y, test_size=0.3, random_state=101)\n",
    "\n",
    "# Creatting the Model\n",
    "from sklearn.linear_model import LogisticRegression\n",
    "\n",
    "LogModel = LogisticRegression()\n",
    "LogModel.fit(X_train, y_train)\n",
    "\n",
    "# Predicting for the model\n",
    "y_pred = LogModel.predict(X_test)\n",
    "print(y_pred)\n",
    "\n",
    "#checking the classification report\n",
    "from sklearn.metrics import classification_report\n",
    "print(classification_report(y_test,y_pred))\n"
   ]
  }
 ],
 "metadata": {
  "kernelspec": {
   "display_name": "Python 2",
   "language": "python",
   "name": "python2"
  },
  "language_info": {
   "codemirror_mode": {
    "name": "ipython",
    "version": 2
   },
   "file_extension": ".py",
   "mimetype": "text/x-python",
   "name": "python",
   "nbconvert_exporter": "python",
   "pygments_lexer": "ipython2",
   "version": "2.7.6"
  }
 },
 "nbformat": 4,
 "nbformat_minor": 0
}
