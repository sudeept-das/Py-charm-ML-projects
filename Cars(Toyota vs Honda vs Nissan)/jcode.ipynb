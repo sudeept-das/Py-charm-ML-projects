{
 "cells": [
  {
   "cell_type": "code",
   "execution_count": null,
   "metadata": {
    "collapsed": true
   },
   "outputs": [],
   "source": [
    "# importing the libraries\n",
    "import numpy as np\n",
    "import matplotlib.pyplot as plt\n",
    "import pandas as pd\n",
    "\n",
    "# importing the dataset\n",
    "dataset = pd.read_csv('cars.csv')\n",
    "\n",
    "X = dataset[dataset.columns[:-1]]  # to take all rows but not tha last column of the dataset\n",
    "\n",
    "X = X.convert_objects(convert_numeric=True)  # To convert all data values of the dataset to numeric\n",
    "print(X)\n",
    "\n",
    "# Eliminating null values\n",
    "\n",
    "for i in X.columns:\n",
    "    X[i] = X[i].fillna(int(X[i].mean()))\n",
    "\n",
    "for i in X.columns:\n",
    "    print(X[i].isnull().sum())\n",
    "\n",
    "# Using the elbow method to find the optimal number of clusters\n",
    "\n",
    "from sklearn.cluster import KMeans\n",
    "\n",
    "wcss = []\n",
    "\n",
    "for i in range(0, 11):\n",
    "    kMeans = KMeans(n_clusters=i, init='k-means++', max_iter=300, n_init=10, random_state=0)\n",
    "    kMeans.fit(X)\n",
    "    wcss.append(kMeans.inertia_)\n",
    "\n",
    "plt.plot(range(0, 11), wcss)\n",
    "plt.title('The Elbow Method')\n",
    "plt.xlabel('Number of clusters')\n",
    "plt.ylabel('WCSS')\n",
    "plt.show()\n",
    "\n",
    "# Applying k-means to the car dataset\n",
    "\n",
    "kmeans = KMeans(n_clusters=3, init='k-means++', max_iter=300, n_init=10, random_state=0)\n",
    "y_kmeans = kmeans.fit_predict(X)\n",
    "X = X.as_matrix(columns=None)\n",
    "plt.scatter(X[y_kmeans == 0, 0], X[y_kmeans == 0, 1], s=100, c='red', label='Toyota')\n",
    "plt.scatter(X[y_kmeans == 1, 0], X[y_kmeans == 1, 1], s=100, c='blue', label='Nissan')\n",
    "plt.scatter(X[y_kmeans == 2, 0], X[y_kmeans == 2, 1], s=100, c='green', label='Honda')\n",
    "plt.scatter(kmeans.cluster_centers_[:, 0], kmeans.cluster_centers_[:, 1], s=300, c='yellow', label='Centroid')\n",
    "plt.title('Clusters of car make')\n",
    "plt.legend()\n",
    "plt.show()\n"
   ]
  }
 ],
 "metadata": {
  "kernelspec": {
   "display_name": "Python 2",
   "language": "python",
   "name": "python2"
  },
  "language_info": {
   "codemirror_mode": {
    "name": "ipython",
    "version": 2
   },
   "file_extension": ".py",
   "mimetype": "text/x-python",
   "name": "python",
   "nbconvert_exporter": "python",
   "pygments_lexer": "ipython2",
   "version": "2.7.6"
  }
 },
 "nbformat": 4,
 "nbformat_minor": 0
}
